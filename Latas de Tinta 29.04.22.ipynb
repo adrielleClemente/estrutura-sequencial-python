{
 "cells": [
  {
   "cell_type": "code",
   "execution_count": 1,
   "id": "a23a53ba",
   "metadata": {},
   "outputs": [
    {
     "name": "stdout",
     "output_type": "stream",
     "text": [
      "Qual o metro² da área: 96\n",
      "2\n",
      "Valor Gasto 160.00\n"
     ]
    }
   ],
   "source": [
    "#cada late possui 18L e custa R$80.00, 1L pinta 3m²\n",
    "metro = int(input('Qual o metro² da área: '))\n",
    "litro = metro/3\n",
    "if metro%54==0:\n",
    "    latas=metro/54\n",
    "else:\n",
    "    latas=(metro/54)+1\n",
    "\n",
    "lata=latas//1\n",
    "preco=lata*80\n",
    "\n",
    "print(int(latas))\n",
    "print('Valor Gasto {:.2f}'.format(preco))"
   ]
  },
  {
   "cell_type": "code",
   "execution_count": 29,
   "id": "1911b4c6",
   "metadata": {},
   "outputs": [
    {
     "name": "stdout",
     "output_type": "stream",
     "text": [
      "Qual o metro² da área: 66\n",
      "Total de latas: 1 . Valor Gasto 80.00\n",
      "Total de Galões: 4 . Valor Gasto 100.00\n"
     ]
    }
   ],
   "source": [
    "metro = int(input('Qual o metro² da área: '))\n",
    "litro = metro/6\n",
    "if metro%108==0:\n",
    "    latas=metro/108\n",
    "else:\n",
    "    latas=(metro/108)+1\n",
    "\n",
    "if metro%21.6==0:\n",
    "    galao=metro/21.6\n",
    "else:\n",
    "    galao=(metro/21.6)+1\n",
    "\n",
    "lata=latas//1\n",
    "precolata=lata*80\n",
    "\n",
    "gal=galao//1\n",
    "precogalo=gal*25\n",
    "\n",
    "\n",
    "\n",
    "print('Total de latas: {:.0f}'.format(lata),'.','Valor Gasto {:.2f}'.format(precolata))\n",
    "\n",
    "print('Total de Galões: {:.0f}'.format(gal),'.','Valor Gasto {:.2f}'.format(precogalo))\n",
    "\n"
   ]
  },
  {
   "cell_type": "code",
   "execution_count": 20,
   "id": "48fc46b6",
   "metadata": {},
   "outputs": [
    {
     "name": "stdout",
     "output_type": "stream",
     "text": [
      "1.0\n"
     ]
    }
   ],
   "source": [
    "teste=66\n",
    "div =teste/3\n",
    "print(div//18)"
   ]
  },
  {
   "cell_type": "code",
   "execution_count": null,
   "id": "27110e62",
   "metadata": {},
   "outputs": [],
   "source": []
  }
 ],
 "metadata": {
  "kernelspec": {
   "display_name": "Python 3 (ipykernel)",
   "language": "python",
   "name": "python3"
  },
  "language_info": {
   "codemirror_mode": {
    "name": "ipython",
    "version": 3
   },
   "file_extension": ".py",
   "mimetype": "text/x-python",
   "name": "python",
   "nbconvert_exporter": "python",
   "pygments_lexer": "ipython3",
   "version": "3.10.4"
  }
 },
 "nbformat": 4,
 "nbformat_minor": 5
}
