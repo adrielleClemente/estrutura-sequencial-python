{
 "cells": [
  {
   "cell_type": "code",
   "execution_count": 2,
   "id": "9278a05b",
   "metadata": {},
   "outputs": [
    {
     "name": "stdout",
     "output_type": "stream",
     "text": [
      "Vendas de Jan: 5844\n",
      "Vendas de Fev: 9638\n",
      "Vendas de Mar: 8963.98\n",
      "Vendas de Abr: 1000.6\n",
      "Seu total de vendas foi:  25446.579999999998\n",
      "A média foi:  6361.6449999999995\n",
      "Parabens, seu abono é de:  636.1645\n"
     ]
    }
   ],
   "source": [
    "jan=float(input('Vendas de Jan: '))\n",
    "fev=float(input('Vendas de Fev: '))\n",
    "mar=float(input('Vendas de Mar: '))\n",
    "abr=float(input('Vendas de Abr: '))\n",
    "\n",
    "soma=(jan+fev+mar+abr)\n",
    "print('Seu total de vendas foi: ',soma)\n",
    "media=soma/4\n",
    "print('A média foi: ',media)\n",
    "\n",
    "if media >= 5000:\n",
    "  abono_maior=media*0.10\n",
    "  print('Parabens, seu abono é de: ',abono_maior)\n",
    "else:\n",
    "  abono_menor=media*0.03\n",
    "  print('Parabens, seu abono é de: ',abono_menor)"
   ]
  },
  {
   "cell_type": "code",
   "execution_count": null,
   "id": "cf96100a",
   "metadata": {},
   "outputs": [],
   "source": []
  },
  {
   "cell_type": "code",
   "execution_count": null,
   "id": "2c3ca2fb",
   "metadata": {},
   "outputs": [],
   "source": []
  }
 ],
 "metadata": {
  "kernelspec": {
   "display_name": "Python 3 (ipykernel)",
   "language": "python",
   "name": "python3"
  },
  "language_info": {
   "codemirror_mode": {
    "name": "ipython",
    "version": 3
   },
   "file_extension": ".py",
   "mimetype": "text/x-python",
   "name": "python",
   "nbconvert_exporter": "python",
   "pygments_lexer": "ipython3",
   "version": "3.10.4"
  }
 },
 "nbformat": 4,
 "nbformat_minor": 5
}
