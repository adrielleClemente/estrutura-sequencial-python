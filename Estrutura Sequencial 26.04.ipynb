{
 "cells": [
  {
   "cell_type": "code",
   "execution_count": 3,
   "id": "ab9c606f",
   "metadata": {},
   "outputs": [
    {
     "name": "stdout",
     "output_type": "stream",
     "text": [
      "20\n",
      "30\n",
      "50\n"
     ]
    }
   ],
   "source": [
    "x=int(input())\n",
    "y=int(input())\n",
    "print(x+y)"
   ]
  },
  {
   "cell_type": "code",
   "execution_count": 5,
   "id": "9b947a2f",
   "metadata": {},
   "outputs": [
    {
     "name": "stdout",
     "output_type": "stream",
     "text": [
      "8\n",
      "9\n",
      "8\n",
      "5\n",
      "26.25\n"
     ]
    }
   ],
   "source": [
    "#Nota Bimestral\n",
    "nota1=int(input())\n",
    "nota2=int(input())\n",
    "nota3=int(input())\n",
    "nota4=int(input())\n",
    "media=(nota1+nota2+nota3+nota4)/4\n",
    "print(media)"
   ]
  },
  {
   "cell_type": "code",
   "execution_count": 8,
   "id": "255679b0",
   "metadata": {},
   "outputs": [
    {
     "name": "stdout",
     "output_type": "stream",
     "text": [
      "Metros: 2\n",
      "200.0 centímetros\n"
     ]
    }
   ],
   "source": [
    "#converter Mts p/ Cms\n",
    "metro=float(input('Metros: '))\n",
    "print(metro*100, 'centímetros')"
   ]
  },
  {
   "cell_type": "code",
   "execution_count": 11,
   "id": "41ef7096",
   "metadata": {},
   "outputs": [
    {
     "name": "stdout",
     "output_type": "stream",
     "text": [
      "6.3\n",
      "124.6266\n"
     ]
    }
   ],
   "source": [
    "#Área de um círculo\n",
    "raio=float(input())\n",
    "area=(raio**2)*3.14\n",
    "print(area)"
   ]
  },
  {
   "cell_type": "code",
   "execution_count": 16,
   "id": "3a4a65f7",
   "metadata": {},
   "outputs": [
    {
     "name": "stdout",
     "output_type": "stream",
     "text": [
      "98\n"
     ]
    }
   ],
   "source": [
    "#O dobro da área do quadrado\n",
    "lado=7\n",
    "area=lado**2\n",
    "print(area*2)"
   ]
  },
  {
   "cell_type": "code",
   "execution_count": 18,
   "id": "773485c5",
   "metadata": {},
   "outputs": [
    {
     "name": "stdout",
     "output_type": "stream",
     "text": [
      "Valor da Hora: 25\n",
      "Total de horas trabalhadas no mês: 220\n",
      "5500.0\n"
     ]
    }
   ],
   "source": [
    "#salario do mês\n",
    "valorhr=float(input('Valor da Hora: '))\n",
    "hrmes=int(input('Total de horas trabalhadas no mês: '))\n",
    "total_do_salario=valorhr * hrmes\n",
    "print(total_do_salario)"
   ]
  },
  {
   "cell_type": "code",
   "execution_count": 21,
   "id": "f3004208",
   "metadata": {},
   "outputs": [
    {
     "name": "stdout",
     "output_type": "stream",
     "text": [
      "Quantos Fahrenheit? 40\n",
      "4.444444444444445 °C\n"
     ]
    }
   ],
   "source": [
    "#graus Fahrenheit- C = 5 * ((F-32) / 9)- Out Celsius\n",
    "fahr = float(input('Quantos Fahrenheit? '))\n",
    "cel = 5*((fahr-32)/9)\n",
    "print(cel, '°C')"
   ]
  },
  {
   "cell_type": "code",
   "execution_count": 31,
   "id": "ba9c388e",
   "metadata": {},
   "outputs": [
    {
     "name": "stdout",
     "output_type": "stream",
     "text": [
      "Quantos Celsius?15\n",
      "59.0\n"
     ]
    }
   ],
   "source": [
    "#agora ao contrário. Imprimir °F - C * (5/9) + 32\n",
    "cel = float(input('Quantos Celsius?'))\n",
    "fahr = (cel * (9/5) + 32)\n",
    "print(fahr)\n"
   ]
  },
  {
   "cell_type": "code",
   "execution_count": null,
   "id": "91646c26",
   "metadata": {},
   "outputs": [],
   "source": []
  },
  {
   "cell_type": "code",
   "execution_count": null,
   "id": "93164e48",
   "metadata": {},
   "outputs": [],
   "source": []
  }
 ],
 "metadata": {
  "kernelspec": {
   "display_name": "Python 3 (ipykernel)",
   "language": "python",
   "name": "python3"
  },
  "language_info": {
   "codemirror_mode": {
    "name": "ipython",
    "version": 3
   },
   "file_extension": ".py",
   "mimetype": "text/x-python",
   "name": "python",
   "nbconvert_exporter": "python",
   "pygments_lexer": "ipython3",
   "version": "3.10.4"
  }
 },
 "nbformat": 4,
 "nbformat_minor": 5
}
