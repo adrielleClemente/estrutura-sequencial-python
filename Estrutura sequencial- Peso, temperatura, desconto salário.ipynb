{
 "cells": [
  {
   "cell_type": "code",
   "execution_count": 4,
   "id": "4f2247b2",
   "metadata": {},
   "outputs": [
    {
     "name": "stdout",
     "output_type": "stream",
     "text": [
      "Primeiro N° Inteiro: 5\n",
      "Segundo N° Inteiro: 10\n",
      "N° Real: 3\n",
      "50.0\n",
      "18.0\n",
      "27.0\n"
     ]
    }
   ],
   "source": [
    "#produto do dobro do primeiro com metade do segundo . #a soma do triplo do primeiro com o terceiro.#o terceiro elevado ao cubo.\n",
    "a=int(input('Primeiro N° Inteiro: '))\n",
    "b=int(input('Segundo N° Inteiro: '))\n",
    "c=float(input('N° Real: '))\n",
    "print((a*2)*(b/2))\n",
    "print((a*3)+c)\n",
    "print(c**3)"
   ]
  },
  {
   "cell_type": "code",
   "execution_count": 8,
   "id": "937a51b4",
   "metadata": {},
   "outputs": [
    {
     "name": "stdout",
     "output_type": "stream",
     "text": [
      "Qual seu altura? 1.62\n",
      "Seu peso ideal é:  59.774000000000015\n"
     ]
    }
   ],
   "source": [
    "#Calculo do peso ideal- fórmula: (72.7*altura) - 58\n",
    "altura=float(input('Qual seu altura? '))\n",
    "peso_ideal=(72.7*altura)-58\n",
    "print('Seu peso ideal é: ',peso_ideal)"
   ]
  },
  {
   "cell_type": "code",
   "execution_count": null,
   "id": "78d616fb",
   "metadata": {},
   "outputs": [],
   "source": [
    "#Peso ideal - Para homens: (72.7*h)-58  Para mulheres: (62.1*h) - 44.7\n",
    "h=float(input('Qual sua altura? '))\n",
    "genero= str(input('Digite M para mulher ou H para homem:'))\n",
    "mulher = (62.1*h)-44.7\n",
    "homem = (72.7*h)-58\n",
    "if genero == 'M':\n",
    "    print('Peso para mulher: ',mulher)\n",
    "elif genero == 'H':\n",
    "    print('Peso para homem: ',homem)\n",
    "else:\n",
    "    print('Ambos pesos: ',mulher,'e', homem)"
   ]
  },
  {
   "cell_type": "code",
   "execution_count": 32,
   "id": "c6f1ec6c",
   "metadata": {},
   "outputs": [
    {
     "name": "stdout",
     "output_type": "stream",
     "text": [
      "1.62\n",
      "Peso excedido foi -48.38 Kg\n",
      "Total da multa a pagar é: -193.52\n"
     ]
    }
   ],
   "source": [
    "#máximo de 50Kg de peixes. multa de 4,00 por Kg excedido\n",
    "peso_peixe=float(input())\n",
    "excesso = peso_peixe - 50\n",
    "total_multa = excesso * 4.00\n",
    "print('Peso excedido foi', excesso,'Kg')\n",
    "print('Total da multa a pagar é:',total_multa)"
   ]
  },
  {
   "cell_type": "code",
   "execution_count": 29,
   "id": "bdf40960",
   "metadata": {},
   "outputs": [
    {
     "name": "stdout",
     "output_type": "stream",
     "text": [
      "Valor da hora trabalhada: 55\n",
      "Total de horas trabalhadas no mês: 220\n",
      "Salário Bruto: 12100.0\n",
      "-DESCONTOS-\n",
      "Valor do I.R. : 1331.0\n",
      "Valor do INSS:  968.0\n",
      "Valor do Sindicato 605.0\n",
      "Salário Líquido: 9196.0\n"
     ]
    }
   ],
   "source": [
    "valor_hora = float(input('Valor da hora trabalhada: '))\n",
    "horas_mes = int(input('Total de horas trabalhadas no mês: '))\n",
    "bruto = valor_hora * horas_mes\n",
    "i_r = bruto * 0.11\n",
    "inss = bruto * 0.08\n",
    "sindicato = bruto * 0.05\n",
    "print('Salário Bruto:', bruto)\n",
    "print('-DESCONTOS-')\n",
    "print('Valor do I.R. :', i_r)\n",
    "print('Valor do INSS: ', inss)\n",
    "print('Valor do Sindicato', sindicato)\n",
    "print('Salário Líquido:', bruto-i_r-inss-sindicato)\n"
   ]
  },
  {
   "cell_type": "code",
   "execution_count": null,
   "id": "4484ec92",
   "metadata": {},
   "outputs": [],
   "source": []
  }
 ],
 "metadata": {
  "kernelspec": {
   "display_name": "Python 3 (ipykernel)",
   "language": "python",
   "name": "python3"
  },
  "language_info": {
   "codemirror_mode": {
    "name": "ipython",
    "version": 3
   },
   "file_extension": ".py",
   "mimetype": "text/x-python",
   "name": "python",
   "nbconvert_exporter": "python",
   "pygments_lexer": "ipython3",
   "version": "3.10.4"
  }
 },
 "nbformat": 4,
 "nbformat_minor": 5
}
